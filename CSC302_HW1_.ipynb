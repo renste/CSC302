{
  "nbformat": 4,
  "nbformat_minor": 0,
  "metadata": {
    "colab": {
      "provenance": [],
      "authorship_tag": "ABX9TyOeZNlzBn0jj3kHxZ8cNkLq",
      "include_colab_link": true
    },
    "kernelspec": {
      "name": "python3",
      "display_name": "Python 3"
    },
    "language_info": {
      "name": "python"
    }
  },
  "cells": [
    {
      "cell_type": "markdown",
      "metadata": {
        "id": "view-in-github",
        "colab_type": "text"
      },
      "source": [
        "<a href=\"https://colab.research.google.com/github/renste/CSC302/blob/main/CSC302_HW1_.ipynb\" target=\"_parent\"><img src=\"https://colab.research.google.com/assets/colab-badge.svg\" alt=\"Open In Colab\"/></a>"
      ]
    },
    {
      "cell_type": "code",
      "execution_count": 3,
      "metadata": {
        "id": "6wFSYlzQ7r22"
      },
      "outputs": [],
      "source": [
        "import pandas as pd\n",
        "file_path = '/content/drive/MyDrive/DATA/olympic_medals.csv'\n",
        "medals = pd.read_csv(file_path)\n"
      ]
    },
    {
      "cell_type": "code",
      "source": [
        "#a\n",
        "rows, columns = medals.shape\n",
        "print(f\"Number of rows: {rows}\")\n",
        "print(f\"Number of columns: {columns}\")"
      ],
      "metadata": {
        "colab": {
          "base_uri": "https://localhost:8080/"
        },
        "id": "SjL5RkDVEVSP",
        "outputId": "346404b3-b16e-41f3-9a84-501bac72175f"
      },
      "execution_count": 4,
      "outputs": [
        {
          "output_type": "stream",
          "name": "stdout",
          "text": [
            "Number of rows: 2394\n",
            "Number of columns: 8\n"
          ]
        }
      ]
    },
    {
      "cell_type": "code",
      "source": [
        "#b\n",
        "data_types = medals.dtypes\n",
        "print(\"Data types:\\n\", data_types)"
      ],
      "metadata": {
        "colab": {
          "base_uri": "https://localhost:8080/"
        },
        "id": "zequBERUEkeX",
        "outputId": "5cdf9647-83bc-47d6-9107-dd4cde28d612"
      },
      "execution_count": 5,
      "outputs": [
        {
          "output_type": "stream",
          "name": "stdout",
          "text": [
            "Data types:\n",
            " Gender         object\n",
            "Event          object\n",
            "Location       object\n",
            "Year            int64\n",
            "Medal          object\n",
            "Name           object\n",
            "Nationality    object\n",
            "Result         object\n",
            "dtype: object\n"
          ]
        }
      ]
    },
    {
      "cell_type": "code",
      "source": [
        "#c\n",
        "unique_cities = len(medals['Location'].unique())\n",
        "print(f\"Unique cities: {unique_cities}\")"
      ],
      "metadata": {
        "colab": {
          "base_uri": "https://localhost:8080/"
        },
        "id": "iXrNNpxUEvXY",
        "outputId": "b89c349f-c377-4dc5-e3a3-5e419c9426b8"
      },
      "execution_count": 6,
      "outputs": [
        {
          "output_type": "stream",
          "name": "stdout",
          "text": [
            "Unique cities: 23\n"
          ]
        }
      ]
    },
    {
      "cell_type": "code",
      "source": [
        "#d\n",
        "usa_medals = medals[medals['Nationality'] == 'USA'].shape[0]\n",
        "print(f\"Total medals won by USA: {usa_medals}\")"
      ],
      "metadata": {
        "colab": {
          "base_uri": "https://localhost:8080/"
        },
        "id": "a_KGILTYE56L",
        "outputId": "fa661a66-787f-4247-c252-f8e857ca3dd8"
      },
      "execution_count": 7,
      "outputs": [
        {
          "output_type": "stream",
          "name": "stdout",
          "text": [
            "Total medals won by USA: 638\n"
          ]
        }
      ]
    },
    {
      "cell_type": "code",
      "source": [
        "#e\n",
        "total_medals_by_nationality = medals.groupby(by='Nationality')['Medal'].count()\n",
        "print(\"Total medals by nationality:\\n\", total_medals_by_nationality)"
      ],
      "metadata": {
        "colab": {
          "base_uri": "https://localhost:8080/"
        },
        "id": "Bx8tgWZ9E9sr",
        "outputId": "2e72e479-f6a2-417c-bf24-55eccccce019"
      },
      "execution_count": 8,
      "outputs": [
        {
          "output_type": "stream",
          "name": "stdout",
          "text": [
            "Total medals by nationality:\n",
            " Nationality\n",
            "ALG      9\n",
            "ARG      4\n",
            "AUS     57\n",
            "AUT      4\n",
            "BAH     12\n",
            "      ... \n",
            "URS    131\n",
            "USA    638\n",
            "VEN      2\n",
            "YUG      1\n",
            "ZAM      1\n",
            "Name: Medal, Length: 97, dtype: int64\n"
          ]
        }
      ]
    }
  ]
}